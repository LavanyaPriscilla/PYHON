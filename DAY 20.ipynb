{
 "cells": [
  {
   "cell_type": "markdown",
   "metadata": {},
   "source": [
    "## PYTHON (STRING)\n",
    "* STRING\n",
    "* STRING SLICING\n",
    "* FUNDAMENTAL PROGRAMMING WITH STRING"
   ]
  },
  {
   "cell_type": "code",
   "execution_count": 8,
   "metadata": {},
   "outputs": [
    {
     "name": "stdout",
     "output_type": "stream",
     "text": [
      "string\n"
     ]
    }
   ],
   "source": [
    "print(\"string\")"
   ]
  },
  {
   "cell_type": "code",
   "execution_count": 9,
   "metadata": {},
   "outputs": [
    {
     "name": "stdout",
     "output_type": "stream",
     "text": [
      "python\n",
      "<class 'str'>\n"
     ]
    }
   ],
   "source": [
    "s1=\"python\"\n",
    "print(s1)\n",
    "print(type(s1))"
   ]
  },
  {
   "cell_type": "code",
   "execution_count": 10,
   "metadata": {},
   "outputs": [
    {
     "name": "stdout",
     "output_type": "stream",
     "text": [
      "p\n",
      "y\n",
      "t\n",
      "h\n",
      "o\n",
      "n\n"
     ]
    }
   ],
   "source": [
    "s1=\"python\"\n",
    "print(s1[0]) #access first letter\n",
    "print(s1[1])  #access 2nd letter\n",
    "print(s1[2]) #access 3rd letter\n",
    "print(s1[3]) #access 4th letter\n",
    "print(s1[4]) #access 5th letter\n",
    "print(s1[5]) #access 6th letter"
   ]
  },
  {
   "cell_type": "code",
   "execution_count": 11,
   "metadata": {},
   "outputs": [
    {
     "name": "stdout",
     "output_type": "stream",
     "text": [
      "n\n",
      "o\n"
     ]
    }
   ],
   "source": [
    "# negative\n",
    "s1=\"python\"\n",
    "print(s1[-1])\n",
    "print(s1[len(s1)-2])"
   ]
  },
  {
   "cell_type": "code",
   "execution_count": 19,
   "metadata": {},
   "outputs": [
    {
     "name": "stdout",
     "output_type": "stream",
     "text": [
      "py\n",
      "pytho\n",
      "thon\n",
      "th\n",
      "hon\n",
      "ho\n",
      "h\n",
      "h\n"
     ]
    }
   ],
   "source": [
    "s1=\"python\"\n",
    "print(s1[0:2])\n",
    "print(s1[0:5])\n",
    "print(s1[2:])\n",
    "print(s1[2:4])\n",
    "print(s1[-3:])\n",
    "print(s1[-3:-1])\n",
    "print(s1[-3:-2])\n",
    "print(s1[-3:-4:-1])"
   ]
  },
  {
   "cell_type": "code",
   "execution_count": 36,
   "metadata": {},
   "outputs": [
    {
     "name": "stdout",
     "output_type": "stream",
     "text": [
      "nohtyp\n",
      "python\n",
      "nohtyp\n",
      "nohtyp\n",
      "pto\n",
      "pto\n"
     ]
    }
   ],
   "source": [
    "#reverse\n",
    "s1=\"python\"\n",
    "print(s1[-1::-1])\n",
    "print(s1[-6:])\n",
    "print(s1[-1:-7:-1])\n",
    "print(s1[6::-1])\n",
    "print(s1[-6::2])\n",
    "print(s1[-6:-1:2])"
   ]
  },
  {
   "cell_type": "code",
   "execution_count": 29,
   "metadata": {},
   "outputs": [
    {
     "name": "stdout",
     "output_type": "stream",
     "text": [
      "ho\n",
      "no\n",
      "o\n",
      "oh\n",
      "nohtyp\n",
      "nohty\n"
     ]
    }
   ],
   "source": [
    "print(s1[-3:-1])\n",
    "print(s1[-1:-3:-1])\n",
    "print(s1[-2:-3:-1])\n",
    "print(s1[-2:-4:-1])\n",
    "print(s1[-1:-7:-1])\n",
    "print(s1[-1:-6:-1])"
   ]
  },
  {
   "cell_type": "markdown",
   "metadata": {},
   "source": [
    "## PYTHON"
   ]
  },
  {
   "cell_type": "code",
   "execution_count": 37,
   "metadata": {},
   "outputs": [
    {
     "name": "stdout",
     "output_type": "stream",
     "text": [
      "[1, 2, 3, 4, 5]\n",
      "2\n",
      "5\n",
      "[3, 4, 5]\n"
     ]
    }
   ],
   "source": [
    "list=[1,2,3,4,5]\n",
    "print(list)\n",
    "print(list[1])\n",
    "print(list[-1])\n",
    "print(list[2:])"
   ]
  },
  {
   "cell_type": "code",
   "execution_count": 39,
   "metadata": {},
   "outputs": [
    {
     "name": "stdout",
     "output_type": "stream",
     "text": [
      "[1, 2, 3, 4, 5, 'igiat', 'vizag']\n",
      "[1, 2, 'me', 4, 5, 'igiat', 'vizag']\n",
      "[1, 2, 'me', 4, 5, 'igiat']\n"
     ]
    }
   ],
   "source": [
    "#update list\n",
    "list1=[1,2,3,4,5,\"igiat\",\"vizag\"]\n",
    "print(list1)\n",
    "list1[2]=\"me\" #update\n",
    "print(list1)\n",
    "del list1[6]  #delete\n",
    "print(list1)"
   ]
  },
  {
   "cell_type": "code",
   "execution_count": null,
   "metadata": {},
   "outputs": [],
   "source": []
  }
 ],
 "metadata": {
  "kernelspec": {
   "display_name": "Python 3",
   "language": "python",
   "name": "python3"
  },
  "language_info": {
   "codemirror_mode": {
    "name": "ipython",
    "version": 3
   },
   "file_extension": ".py",
   "mimetype": "text/x-python",
   "name": "python",
   "nbconvert_exporter": "python",
   "pygments_lexer": "ipython3",
   "version": "3.8.5"
  }
 },
 "nbformat": 4,
 "nbformat_minor": 4
}
