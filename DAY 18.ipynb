{
 "cells": [
  {
   "cell_type": "code",
   "execution_count": 2,
   "metadata": {},
   "outputs": [
    {
     "data": {
      "text/plain": [
       "6"
      ]
     },
     "execution_count": 2,
     "metadata": {},
     "output_type": "execute_result"
    }
   ],
   "source": [
    "#input: 1234\n",
    "#output:(2+4)=6\n",
    "def addevendigit(n):\n",
    "    sum=0\n",
    "    while n!=0:\n",
    "        r=n%10\n",
    "        if r%2==0:\n",
    "            sum=sum+r\n",
    "        n=n//10\n",
    "    return sum\n",
    "addevendigit(1234)"
   ]
  },
  {
   "cell_type": "code",
   "execution_count": 3,
   "metadata": {},
   "outputs": [
    {
     "data": {
      "text/plain": [
       "9"
      ]
     },
     "execution_count": 3,
     "metadata": {},
     "output_type": "execute_result"
    }
   ],
   "source": [
    "#find the large in 19258 \n",
    "def largenumber(n):\n",
    "    large=0\n",
    "    while n!=0:\n",
    "        r=n%10\n",
    "        if large<r:\n",
    "            large=r\n",
    "        n=n//10\n",
    "    return large\n",
    "largenumber(19258)"
   ]
  },
  {
   "cell_type": "code",
   "execution_count": 6,
   "metadata": {},
   "outputs": [
    {
     "data": {
      "text/plain": [
       "0"
      ]
     },
     "execution_count": 6,
     "metadata": {},
     "output_type": "execute_result"
    }
   ],
   "source": [
    "addevendigit(193)"
   ]
  },
  {
   "cell_type": "code",
   "execution_count": 7,
   "metadata": {},
   "outputs": [
    {
     "data": {
      "text/plain": [
       "9"
      ]
     },
     "execution_count": 7,
     "metadata": {},
     "output_type": "execute_result"
    }
   ],
   "source": [
    "largenumber(82792)"
   ]
  },
  {
   "cell_type": "code",
   "execution_count": 18,
   "metadata": {},
   "outputs": [
    {
     "name": "stdout",
     "output_type": "stream",
     "text": [
      "3 2 1 "
     ]
    }
   ],
   "source": [
    "#input 123\n",
    "#output 321\n",
    "def reversenumber(n):\n",
    "    reverse=0\n",
    "    while n!=0:\n",
    "        r=n%10\n",
    "        print(r,end=\" \")\n",
    "        n=n//10\n",
    "reversenumber(123)    "
   ]
  },
  {
   "cell_type": "code",
   "execution_count": 17,
   "metadata": {},
   "outputs": [
    {
     "data": {
      "text/plain": [
       "(3, 2, 1)"
      ]
     },
     "execution_count": 17,
     "metadata": {},
     "output_type": "execute_result"
    }
   ],
   "source": [
    "def reverse(n):\n",
    "    a=n%10\n",
    "    b=n//10\n",
    "    c=b%10\n",
    "    d=b//10\n",
    "    return (a,c,d)\n",
    "reverse(123)"
   ]
  },
  {
   "cell_type": "code",
   "execution_count": 2,
   "metadata": {},
   "outputs": [
    {
     "data": {
      "text/plain": [
       "321"
      ]
     },
     "execution_count": 2,
     "metadata": {},
     "output_type": "execute_result"
    }
   ],
   "source": [
    "def reversenumber(n):\n",
    "    rev=0\n",
    "    while n!=0:\n",
    "        r=n%10\n",
    "        rev = rev*10+r\n",
    "        n=n//10\n",
    "    return rev\n",
    "reversenumber(123)"
   ]
  },
  {
   "cell_type": "code",
   "execution_count": null,
   "metadata": {},
   "outputs": [],
   "source": []
  }
 ],
 "metadata": {
  "kernelspec": {
   "display_name": "Python 3",
   "language": "python",
   "name": "python3"
  },
  "language_info": {
   "codemirror_mode": {
    "name": "ipython",
    "version": 3
   },
   "file_extension": ".py",
   "mimetype": "text/x-python",
   "name": "python",
   "nbconvert_exporter": "python",
   "pygments_lexer": "ipython3",
   "version": "3.8.5"
  }
 },
 "nbformat": 4,
 "nbformat_minor": 4
}
