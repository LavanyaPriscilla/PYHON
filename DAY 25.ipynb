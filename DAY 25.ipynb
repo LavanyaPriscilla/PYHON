{
 "cells": [
  {
   "cell_type": "markdown",
   "metadata": {},
   "source": [
    "# Standard libraries:\n",
    "* File I/O\n",
    "* Regular Expressions\n",
    "* Datetime\n",
    "* Math (numerical and mathematical)"
   ]
  },
  {
   "cell_type": "markdown",
   "metadata": {},
   "source": [
    "# File Handling in Python\n",
    "* File: Document containing information resides on tthe permanent storage\n",
    "* Different types of files:txt,doc,pdf,csv, ...etc\n",
    "* input - keyword\n",
    "* output - file ### modes of the file I/O\n",
    "* 'w' - this mode used to file writing\n",
    "      - if the file is not present, first it creates the file and write some data to it\n",
    "      - if the file is present then it will rewrite the previous content"
   ]
  },
  {
   "cell_type": "code",
   "execution_count": 2,
   "metadata": {},
   "outputs": [
    {
     "name": "stdout",
     "output_type": "stream",
     "text": [
      "file is created and data has written\n"
     ]
    }
   ],
   "source": [
    "#function to create a file and write \n",
    "def createfile(filename):\n",
    "    f =open(filename, 'w')\n",
    "    for i in range(10):\n",
    "        f.write('hello world')\n",
    "    print(\"file is created and data has written\")\n",
    "    return\n",
    "createfile('file1.txt')"
   ]
  },
  {
   "cell_type": "code",
   "execution_count": 10,
   "metadata": {},
   "outputs": [
    {
     "name": "stdout",
     "output_type": "stream",
     "text": [
      "file is created and data has written\n"
     ]
    }
   ],
   "source": [
    "#function to create a file and write with append\n",
    "def append(filename):\n",
    "    f =open(filename, 'a')\n",
    "    for i in range(10):\n",
    "        f.write('lav')\n",
    "    print(\"file is created and data has written\")\n",
    "    return\n",
    "append('file2.txt')"
   ]
  },
  {
   "cell_type": "code",
   "execution_count": 9,
   "metadata": {},
   "outputs": [
    {
     "name": "stdout",
     "output_type": "stream",
     "text": [
      "file is created and data has written\n"
     ]
    }
   ],
   "source": [
    "#function to create a file and write with append line by line\n",
    "def append(filename):\n",
    "    f =open(filename, 'a')\n",
    "    for i in range(10):\n",
    "        f.write('this is lav \\n')\n",
    "        f.write('hello \\n')\n",
    "    print(\"file is created and data has written\")\n",
    "    return\n",
    "append('file2.txt')"
   ]
  },
  {
   "cell_type": "code",
   "execution_count": 12,
   "metadata": {},
   "outputs": [
    {
     "name": "stdout",
     "output_type": "stream",
     "text": [
      "hello worldhello worldhello worldhello worldhello worldhello worldhello worldhello worldhello worldhello world\n"
     ]
    }
   ],
   "source": [
    "#function to read file\n",
    "def readdata(filename):\n",
    "    f=open(filename,'r')\n",
    "    if f.mode=='r':\n",
    "        x=f.read()\n",
    "        print(x)\n",
    "    f.close()\n",
    "    return\n",
    "readdata('file1.txt')"
   ]
  },
  {
   "cell_type": "code",
   "execution_count": 17,
   "metadata": {},
   "outputs": [
    {
     "name": "stdout",
     "output_type": "stream",
     "text": [
      "lavlavlavlavlavlavlavlavlavlavthis is lav /nhello /nthis is lav /nhello /nthis is lav /nhello /nthis is lav /nhello /nthis is lav /nhello /nthis is lav /nhello /nthis is lav /nhello /nthis is lav /nhello /nthis is lav /nhello /nthis is lav /nhello /nthis is lav /nhello /nthis is lav /nhello /nthis is lav /nhello /nthis is lav /nhello /nthis is lav /nhello /nthis is lav /nhello /nthis is lav /nhello /nthis is lav /nhello /nthis is lav /nhello /nthis is lav /nhello /nthis is lav /nhello /nthis is lav /nhello /nthis is lav /nhello /nthis is lav /nhello /nthis is lav /nhello /nthis is lav /nhello /nthis is lav /nhello /nthis is lav /nhello /nthis is lav /nhello /nthis is lav /nhello /nthis is lav /nhello /nthis is lav /nhello /nthis is lav /nhello /nthis is lav /nhello /nthis is lav /nhello /nthis is lav /nhello /nthis is lav /nhello /nthis is lav /nhello /nthis is lav /nhello /nthis is lav /nhello /nthis is lav \n",
      "hello \n",
      "this is lav \n",
      "hello \n",
      "this is lav \n",
      "hello \n",
      "this is lav \n",
      "hello \n",
      "this is lav \n",
      "hello \n",
      "this is lav \n",
      "hello \n",
      "this is lav \n",
      "hello \n",
      "this is lav \n",
      "hello \n",
      "this is lav \n",
      "hello \n",
      "this is lav \n",
      "hello \n",
      "lavlavlavlavlavlavlavlavlavlav\n"
     ]
    }
   ],
   "source": [
    "def readdata(filename):\n",
    "    f= open(filename,'r')\n",
    "    if f.mode=='r':\n",
    "        x=f.read()\n",
    "        print(x)\n",
    "    f.close()\n",
    "    return\n",
    "readdata(\"file2.txt\")"
   ]
  },
  {
   "cell_type": "code",
   "execution_count": null,
   "metadata": {},
   "outputs": [],
   "source": []
  }
 ],
 "metadata": {
  "kernelspec": {
   "display_name": "Python 3",
   "language": "python",
   "name": "python3"
  },
  "language_info": {
   "codemirror_mode": {
    "name": "ipython",
    "version": 3
   },
   "file_extension": ".py",
   "mimetype": "text/x-python",
   "name": "python",
   "nbconvert_exporter": "python",
   "pygments_lexer": "ipython3",
   "version": "3.8.5"
  }
 },
 "nbformat": 4,
 "nbformat_minor": 4
}
