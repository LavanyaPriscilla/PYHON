{
 "cells": [
  {
   "cell_type": "code",
   "execution_count": 4,
   "metadata": {},
   "outputs": [
    {
     "name": "stdout",
     "output_type": "stream",
     "text": [
      "12345678910"
     ]
    }
   ],
   "source": [
    "# print N natural numbers using for loop\n",
    "def naturalnumber(n):\n",
    "    for x in range(1,n+1):\n",
    "        print(x,end=\"\")\n",
    "    return\n",
    "naturalnumber(10)"
   ]
  },
  {
   "cell_type": "code",
   "execution_count": 10,
   "metadata": {},
   "outputs": [
    {
     "name": "stdout",
     "output_type": "stream",
     "text": [
      "11 12 13 14 15 "
     ]
    }
   ],
   "source": [
    "# function to print n natural numbers btwn two limits l,b(prameters)\n",
    "#input: 11,15\n",
    "#output: 11,12,13,14,15\n",
    "def limits(l,b):\n",
    "    for x in range(l,b+1):\n",
    "        print(x,end=\" \")\n",
    "    return\n",
    "limits(11,15)"
   ]
  },
  {
   "cell_type": "code",
   "execution_count": 11,
   "metadata": {},
   "outputs": [
    {
     "name": "stdout",
     "output_type": "stream",
     "text": [
      "1 3 5 7 9 11 "
     ]
    }
   ],
   "source": [
    "# function to print n natural numbers btwn two limits l,b(prameters) an also step( consecutive numbers)\n",
    "#input: 1,11\n",
    "#output: 1 3 5 7 9 11\n",
    "def limits(l,b):\n",
    "    for x in range(l,b+1,2):\n",
    "        print(x,end=\" \")\n",
    "    return\n",
    "limits(1,11)"
   ]
  },
  {
   "cell_type": "code",
   "execution_count": 8,
   "metadata": {},
   "outputs": [
    {
     "name": "stdout",
     "output_type": "stream",
     "text": [
      "10 9 8 7 6 5 4 3 2 1 "
     ]
    }
   ],
   "source": [
    "# input:1,10\n",
    "#output: 10,9,8....1\n",
    "def revnumber(l,b):\n",
    "    for x in range(b,l-1,-1):\n",
    "        print(x,end=\" \")\n",
    "    return\n",
    "revnumber(1,10)"
   ]
  },
  {
   "cell_type": "code",
   "execution_count": 9,
   "metadata": {},
   "outputs": [
    {
     "name": "stdout",
     "output_type": "stream",
     "text": [
      "10 9 8 7 6 5 4 3 2 "
     ]
    }
   ],
   "source": [
    "# input:1,10\n",
    "#output: 10,9,8....1\n",
    "def revnumber(l,b):\n",
    "    for x in range(b,l-1,-1):\n",
    "        print(x,end=\" \")\n",
    "    return\n",
    "revnumber(2,10)"
   ]
  },
  {
   "cell_type": "code",
   "execution_count": null,
   "metadata": {},
   "outputs": [],
   "source": []
  },
  {
   "cell_type": "code",
   "execution_count": null,
   "metadata": {},
   "outputs": [],
   "source": []
  }
 ],
 "metadata": {
  "kernelspec": {
   "display_name": "Python 3",
   "language": "python",
   "name": "python3"
  },
  "language_info": {
   "codemirror_mode": {
    "name": "ipython",
    "version": 3
   },
   "file_extension": ".py",
   "mimetype": "text/x-python",
   "name": "python",
   "nbconvert_exporter": "python",
   "pygments_lexer": "ipython3",
   "version": "3.8.5"
  }
 },
 "nbformat": 4,
 "nbformat_minor": 4
}
