{
 "cells": [
  {
   "cell_type": "markdown",
   "metadata": {},
   "source": [
    "# File Handling"
   ]
  },
  {
   "cell_type": "code",
   "execution_count": 3,
   "metadata": {},
   "outputs": [
    {
     "name": "stdout",
     "output_type": "stream",
     "text": [
      "enter the filenamefile1.txt\n",
      "enter modea\n",
      "the data successfully written\n"
     ]
    }
   ],
   "source": [
    "# function to read the file\n",
    "def fileoperation(filename,mode):\n",
    "    with open(filename,mode) as f:\n",
    "        if f.mode=='r':\n",
    "            data =f.read()\n",
    "            print(data)\n",
    "        elif f.mode =='a':\n",
    "            f.write('data to file\\n')\n",
    "            f.write('data to file\\n')\n",
    "            f.write('data to file\\n')\n",
    "            print('the data successfully written')\n",
    "    f.close()\n",
    "    return\n",
    "filename=input('enter the filename')\n",
    "mode= input('enter mode')\n",
    "fileoperation(filename,mode)"
   ]
  },
  {
   "cell_type": "code",
   "execution_count": 1,
   "metadata": {},
   "outputs": [
    {
     "name": "stdout",
     "output_type": "stream",
     "text": [
      "enter the filenamefile1.txt\n",
      "enter wordworldhello\n"
     ]
    },
    {
     "data": {
      "text/plain": [
       "9"
      ]
     },
     "execution_count": 1,
     "metadata": {},
     "output_type": "execute_result"
    }
   ],
   "source": [
    "# data analyis\n",
    "#word count\n",
    "def wordcount(filename,word):\n",
    "    with open(filename,'r') as f:\n",
    "        if f.mode=='r':\n",
    "            x=f.read()\n",
    "            li=x.split() # it splits the string with space\n",
    "        cnt = li.count(word)\n",
    "        return cnt\n",
    "filename=input('enter the filename')\n",
    "word = input('enter word')\n",
    "wordcount(filename,word)"
   ]
  },
  {
   "cell_type": "code",
   "execution_count": 4,
   "metadata": {},
   "outputs": [
    {
     "name": "stdout",
     "output_type": "stream",
     "text": [
      "enter filenamefile1.txt\n"
     ]
    },
    {
     "data": {
      "text/plain": [
       "162"
      ]
     },
     "execution_count": 4,
     "metadata": {},
     "output_type": "execute_result"
    }
   ],
   "source": [
    "# character cout from the given\n",
    "def charcount(filename):\n",
    "    with open(filename,'r') as f:\n",
    "        if f.mode == 'r':\n",
    "            x=f.read()\n",
    "            li=list(x)\n",
    "    return len(li)\n",
    "    f.close()\n",
    "    \n",
    "filename=input('enter filename')\n",
    "charcount(filename)"
   ]
  },
  {
   "cell_type": "code",
   "execution_count": 6,
   "metadata": {},
   "outputs": [
    {
     "name": "stdout",
     "output_type": "stream",
     "text": [
      "enter the file:file2.txt\n"
     ]
    },
    {
     "data": {
      "text/plain": [
       "21"
      ]
     },
     "execution_count": 6,
     "metadata": {},
     "output_type": "execute_result"
    }
   ],
   "source": [
    "#function to find the no of lines in input file\n",
    "#input - filename(file2.txt)\n",
    "#output - no.of lines\n",
    "def countoflines(filename):\n",
    "    with open(filename,'r') as f:\n",
    "        if f.mode == 'r':\n",
    "            x=f.read()\n",
    "            li=x.split('\\n')\n",
    "    return len(li)\n",
    "filename=input('enter the file:')\n",
    "countoflines(filename)"
   ]
  },
  {
   "cell_type": "code",
   "execution_count": null,
   "metadata": {},
   "outputs": [],
   "source": []
  }
 ],
 "metadata": {
  "kernelspec": {
   "display_name": "Python 3",
   "language": "python",
   "name": "python3"
  }
 },
 "nbformat": 4,
 "nbformat_minor": 4
}
