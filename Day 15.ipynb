{
 "cells": [
  {
   "cell_type": "code",
   "execution_count": null,
   "metadata": {},
   "outputs": [],
   "source": [
    "A=1234\n",
    "print(len(str(A)))"
   ]
  },
  {
   "cell_type": "markdown",
   "metadata": {},
   "source": [
    "### Reading a value -- Input Function\n",
    "- input(\"Message\") -- string\n",
    "---\n",
    "#This is formatted as code\n",
    "---"
   ]
  },
  {
   "cell_type": "code",
   "execution_count": 2,
   "metadata": {},
   "outputs": [
    {
     "name": "stdout",
     "output_type": "stream",
     "text": [
      "enter a number5\n",
      "5\n"
     ]
    }
   ],
   "source": [
    "a= input(\"enter a number\")\n",
    "print(a)"
   ]
  },
  {
   "cell_type": "code",
   "execution_count": 3,
   "metadata": {
    "scrolled": true
   },
   "outputs": [
    {
     "name": "stdout",
     "output_type": "stream",
     "text": [
      "enter a numberlav\n",
      "<class 'str'>\n"
     ]
    }
   ],
   "source": [
    "s=input(\"enter a number\")\n",
    "print(type(s))"
   ]
  },
  {
   "cell_type": "code",
   "execution_count": 4,
   "metadata": {},
   "outputs": [
    {
     "name": "stdout",
     "output_type": "stream",
     "text": [
      "enter a number5\n",
      "5\n",
      "<class 'int'>\n"
     ]
    }
   ],
   "source": [
    "s=int(input(\"enter a number\"))\n",
    "print(s)\n",
    "print(type(s))"
   ]
  },
  {
   "cell_type": "markdown",
   "metadata": {},
   "source": [
    "## Operators\n",
    "* Operator is a symbols is used to perform a specific kind of operations.\n",
    "### Arthematic Operators\n",
    "- +\n",
    "-/\n",
    "- - \n",
    "- *\n",
    "- %\n",
    "- **\n",
    "- //"
   ]
  },
  {
   "cell_type": "code",
   "execution_count": 6,
   "metadata": {},
   "outputs": [
    {
     "name": "stdout",
     "output_type": "stream",
     "text": [
      "1244\n",
      "1224\n",
      "123.4\n",
      "12340\n",
      "4\n",
      "8187505353567209228244052427776\n",
      "123\n"
     ]
    }
   ],
   "source": [
    "n1=1234\n",
    "print(n1+10)\n",
    "print(n1-10)\n",
    "print(n1/10)\n",
    "print(n1*10)\n",
    "print(n1%10)\n",
    "print(n1**10)\n",
    "print(n1//10)"
   ]
  },
  {
   "cell_type": "markdown",
   "metadata": {},
   "source": [
    "### Relational Operators\n",
    "- ==, !=, <, >, <=, >="
   ]
  },
  {
   "cell_type": "code",
   "execution_count": 7,
   "metadata": {},
   "outputs": [
    {
     "name": "stdout",
     "output_type": "stream",
     "text": [
      "False\n"
     ]
    }
   ],
   "source": [
    "a=10\n",
    "b=a>=11\n",
    "print(b)"
   ]
  },
  {
   "cell_type": "markdown",
   "metadata": {},
   "source": [
    "### Logical Operators\n",
    "**Used to combine more than single condition**\n",
    "- and\n",
    "- or\n",
    "- not"
   ]
  },
  {
   "cell_type": "code",
   "execution_count": 9,
   "metadata": {},
   "outputs": [
    {
     "name": "stdout",
     "output_type": "stream",
     "text": [
      "False\n"
     ]
    }
   ],
   "source": [
    "i= 100\n",
    "a1=((i>10) and (i<20))\n",
    "print(a1)"
   ]
  },
  {
   "cell_type": "code",
   "execution_count": 11,
   "metadata": {},
   "outputs": [
    {
     "name": "stdout",
     "output_type": "stream",
     "text": [
      "True\n"
     ]
    }
   ],
   "source": [
    "i= 100\n",
    "a1=((i>10)or(i<20))\n",
    "print(a1)"
   ]
  },
  {
   "cell_type": "code",
   "execution_count": 13,
   "metadata": {},
   "outputs": [
    {
     "name": "stdout",
     "output_type": "stream",
     "text": [
      "False\n"
     ]
    }
   ],
   "source": [
    "i= 100\n",
    "a1=(not(i>10) and (i<200))\n",
    "print(a1)"
   ]
  },
  {
   "cell_type": "markdown",
   "metadata": {},
   "source": [
    "### Control flow statements\n",
    "- Conditional statements\n",
    "- Looping statements\n",
    "\n",
    "#### if - else statement\n",
    "\n",
    "**Syntax**\n",
    "\n",
    "if Boolean_Condition: <br>\n",
    "  Statements <br>\n",
    "else :<br>\n",
    "  statements"
   ]
  },
  {
   "cell_type": "code",
   "execution_count": 14,
   "metadata": {},
   "outputs": [
    {
     "name": "stdout",
     "output_type": "stream",
     "text": [
      "enter a number5\n",
      "odd\n"
     ]
    }
   ],
   "source": [
    "# To check given number is even or odd\n",
    "n= int(input(\"enter a number\"))\n",
    "if n%2==0:\n",
    "    print(\"even\")\n",
    "else:\n",
    "    print(\"odd\")\n"
   ]
  },
  {
   "cell_type": "code",
   "execution_count": 15,
   "metadata": {},
   "outputs": [
    {
     "name": "stdout",
     "output_type": "stream",
     "text": [
      "enter a number8\n",
      "even\n"
     ]
    }
   ],
   "source": [
    "# To check given number is even or odd\n",
    "n= int(input(\"enter a number\"))\n",
    "if n%2==0:\n",
    "    print(\"even\")\n",
    "else:\n",
    "    print(\"odd\")"
   ]
  },
  {
   "cell_type": "code",
   "execution_count": 16,
   "metadata": {},
   "outputs": [
    {
     "name": "stdout",
     "output_type": "stream",
     "text": [
      "enter a number5\n",
      "false\n"
     ]
    }
   ],
   "source": [
    "# To check given number is perfectly multiple of 3 and 5\n",
    "n= int(input(\"enter a number\"))\n",
    "if n%3==0 and n%5==0:\n",
    "    print(\"true\")\n",
    "else:\n",
    "    print(\"false\")"
   ]
  },
  {
   "cell_type": "code",
   "execution_count": null,
   "metadata": {},
   "outputs": [],
   "source": []
  }
 ],
 "metadata": {
  "kernelspec": {
   "display_name": "Python 3",
   "language": "python",
   "name": "python3"
  },
  "language_info": {
   "codemirror_mode": {
    "name": "ipython",
    "version": 3
   },
   "file_extension": ".py",
   "mimetype": "text/x-python",
   "name": "python",
   "nbconvert_exporter": "python",
   "pygments_lexer": "ipython3",
   "version": "3.8.5"
  }
 },
 "nbformat": 4,
 "nbformat_minor": 4
}
