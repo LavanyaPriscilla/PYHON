{
 "cells": [
  {
   "cell_type": "code",
   "execution_count": null,
   "metadata": {},
   "outputs": [],
   "source": [
    "#Spiraling Star\n",
    "import turtle as tt\n",
    "a1=tt.Turtle()\n",
    "a1.pencolor('blue')\n",
    "for i in range(40):\n",
    "   a1.forward(i*10)\n",
    "   a1.right(144)\n",
    "tt.done()"
   ]
  },
  {
   "cell_type": "code",
   "execution_count": null,
   "metadata": {},
   "outputs": [],
   "source": [
    "#square spiral\n",
    "import turtle as t\n",
    "a1=t.Turtle()\n",
    "a1.pencolor('blue')\n",
    "for i in range(250):\n",
    "    a1.forward(i)\n",
    "    a1.left(91)\n",
    "t.done()\n"
   ]
  },
  {
   "cell_type": "code",
   "execution_count": null,
   "metadata": {},
   "outputs": [],
   "source": [
    "# hexagon with multi colors\n",
    "from turtle import *\n",
    "colors =['blue','green','yellow','orange','purple','red']\n",
    "for x in range(360):\n",
    "    pencolor(colors[x%6])\n",
    "    width(x/100 + 1)\n",
    "    forward(x)\n",
    "    left(59)"
   ]
  },
  {
   "cell_type": "code",
   "execution_count": null,
   "metadata": {},
   "outputs": [],
   "source": [
    "#changing line color\n",
    "import turtle\n",
    "pa = turtle.Turtle()\n",
    "\n",
    "pa.pencolor(\"blue\")\n",
    "\n",
    "for i in range(50):\n",
    "    pa.forward(50)\n",
    "    pa.left(123)\n",
    "\n",
    "pa.pencolor(\"red\")\n",
    "for i in range(50):\n",
    "    pa.forward(100)\n",
    "    pa.left(123)\n",
    "turtle.done()\n"
   ]
  },
  {
   "cell_type": "code",
   "execution_count": null,
   "metadata": {},
   "outputs": [],
   "source": [
    "#circle of sqaure\n",
    "#a circle is drawn using sqaure\n",
    "#step1: import turtle\n",
    "import turtle\n",
    "\n",
    "#step2:create turtle.we will call it \"t\"\n",
    "t = turtle.Turtle()\n",
    "t.speed(50)\n",
    "\n",
    "#step3: draw the shape\n",
    "def square(length,angle):\n",
    "  for i in range(4):\n",
    "        t.forward(100) #length\n",
    "        t.right(90) # angle\n",
    "\n",
    "for i in range(200):\n",
    "    square(100,90)\n",
    "\n",
    "    t.right(5)\n",
    "#step4:run the turtle\n",
    "t.done()"
   ]
  },
  {
   "cell_type": "code",
   "execution_count": null,
   "metadata": {},
   "outputs": [],
   "source": [
    "#square of squares\n",
    "import turtle\n",
    "pen = turtle.Turtle()\n",
    "pen.color(\"blue\")\n",
    "def mysquare(size):\n",
    "    for i in range(4):\n",
    "        pen.forward(size)\n",
    "        pen.left(90)\n",
    "mysquare(146)\n",
    "mysquare(126)\n",
    "mysquare(106)\n",
    "mysquare(86)\n",
    "mysquare(66)\n",
    "mysquare(46)\n",
    "mysquare(26)"
   ]
  },
  {
   "cell_type": "code",
   "execution_count": null,
   "metadata": {},
   "outputs": [],
   "source": [
    "#maze\n",
    "import turtle\n",
    "pen = turtle.Turtle()\n",
    "pen.color(\"blue\")\n",
    "def mysquare(size):\n",
    "    for i in range(4):\n",
    "        pen.forward(size)\n",
    "        pen.left(90)\n",
    "        size =size-5\n",
    "mysquare(146)\n",
    "mysquare(126)\n",
    "mysquare(106)\n",
    "mysquare(86)\n",
    "mysquare(66)\n",
    "mysquare(46)\n",
    "mysquare(26)\n"
   ]
  }
 ],
 "metadata": {
  "kernelspec": {
   "display_name": "Python 3",
   "language": "python",
   "name": "python3"
  },
  "language_info": {
   "codemirror_mode": {
    "name": "ipython",
    "version": 3
   },
   "file_extension": ".py",
   "mimetype": "text/x-python",
   "name": "python",
   "nbconvert_exporter": "python",
   "pygments_lexer": "ipython3",
   "version": "3.8.5"
  }
 },
 "nbformat": 4,
 "nbformat_minor": 4
}
