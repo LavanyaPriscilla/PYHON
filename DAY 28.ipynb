{
 "cells": [
  {
   "cell_type": "markdown",
   "metadata": {},
   "source": [
    "# Email id validation using Regular expression\n",
    "\n",
    "* example: username@domainname.extension\n",
    "* Username:\n",
    "    * length will be [6-15]\n",
    "    * no spls characters from underscore(_)\n",
    "* Domain name:\n",
    "    * length will be [3-18]\n",
    "    * no splc characters\n",
    "* Extension:\n",
    "    * length will be [2-4]"
   ]
  },
  {
   "cell_type": "code",
   "execution_count": 1,
   "metadata": {},
   "outputs": [
    {
     "data": {
      "text/plain": [
       "True"
      ]
     },
     "execution_count": 1,
     "metadata": {},
     "output_type": "execute_result"
    }
   ],
   "source": [
    "#pattern: \"^[0-9a-z_.]{5,15}[@][a-z0-9]{3,18}[.][a-z]{2,4}$\"\n",
    "import re\n",
    "def emailvalidation(email):\n",
    "    pattern= \"^[0-9a-z_.]{5,15}[@][a-z0-9]{3,18}[.][a-z]{2,4}$\"\n",
    "    if re.match(pattern,email):\n",
    "        return True\n",
    "    return False\n",
    "emailvalidation('lavanyapr97@gmail.com')"
   ]
  },
  {
   "cell_type": "code",
   "execution_count": 2,
   "metadata": {},
   "outputs": [
    {
     "data": {
      "text/plain": [
       "False"
      ]
     },
     "execution_count": 2,
     "metadata": {},
     "output_type": "execute_result"
    }
   ],
   "source": [
    "#pattern: \"^[0-9a-z_.]{5,15}[@][a-z0-9]{3,18}[.][a-z]{2,4}$\"\n",
    "import re\n",
    "def emailvalidation(email):\n",
    "    pattern= \"^[0-9a-z_.]{5,15}[@][a-z0-9]{3,18}[.][a-z]{2,4}$\"\n",
    "    if re.match(pattern,email):\n",
    "        return True\n",
    "    return False\n",
    "emailvalidation('lavanyapriscilla97@gmail.com')"
   ]
  },
  {
   "cell_type": "markdown",
   "metadata": {},
   "source": [
    "# Python Turtle\n",
    "\n",
    "* Turtle Graphics\n",
    "* It is a feature like a drawing board.\n",
    "* we can use function like turtle.forward() and turtle.right() which can move turtle around\n",
    "* Plotting using Turtle:\n",
    " 1. Import the Turtle module\n",
    " 2. Create a Turtle to control\n",
    " 3. Draw around using Turtle methods\n",
    " 4. Run turtle.done()"
   ]
  },
  {
   "cell_type": "code",
   "execution_count": 4,
   "metadata": {},
   "outputs": [
    {
     "ename": "AttributeError",
     "evalue": "'Turtle' object has no attribute 'done'",
     "output_type": "error",
     "traceback": [
      "\u001b[1;31m---------------------------------------------------------------------------\u001b[0m",
      "\u001b[1;31mAttributeError\u001b[0m                            Traceback (most recent call last)",
      "\u001b[1;32m<ipython-input-4-fb1cbea146fe>\u001b[0m in \u001b[0;36m<module>\u001b[1;34m\u001b[0m\n\u001b[0;32m      5\u001b[0m     \u001b[0mturtle\u001b[0m\u001b[1;33m.\u001b[0m\u001b[0mforward\u001b[0m\u001b[1;33m(\u001b[0m\u001b[1;36m60\u001b[0m\u001b[1;33m)\u001b[0m\u001b[1;33m\u001b[0m\u001b[1;33m\u001b[0m\u001b[0m\n\u001b[0;32m      6\u001b[0m     \u001b[0mturtle\u001b[0m\u001b[1;33m.\u001b[0m\u001b[0mright\u001b[0m\u001b[1;33m(\u001b[0m\u001b[1;36m90\u001b[0m\u001b[1;33m)\u001b[0m\u001b[1;33m\u001b[0m\u001b[1;33m\u001b[0m\u001b[0m\n\u001b[1;32m----> 7\u001b[1;33m \u001b[0mturtle\u001b[0m\u001b[1;33m.\u001b[0m\u001b[0mdone\u001b[0m\u001b[1;33m(\u001b[0m\u001b[1;33m)\u001b[0m\u001b[1;33m\u001b[0m\u001b[1;33m\u001b[0m\u001b[0m\n\u001b[0m",
      "\u001b[1;31mAttributeError\u001b[0m: 'Turtle' object has no attribute 'done'"
     ]
    }
   ],
   "source": [
    "# draw square # this is done in python idle\n",
    "import turtle\n",
    "turtle = turtle.Turtle()\n",
    "for i in range(4):\n",
    "    turtle.forward(60)\n",
    "    turtle.right(90)\n",
    "turtle.done()\n",
    "\n"
   ]
  },
  {
   "cell_type": "code",
   "execution_count": 5,
   "metadata": {},
   "outputs": [
    {
     "ename": "AttributeError",
     "evalue": "'Turtle' object has no attribute 'done'",
     "output_type": "error",
     "traceback": [
      "\u001b[1;31m---------------------------------------------------------------------------\u001b[0m",
      "\u001b[1;31mAttributeError\u001b[0m                            Traceback (most recent call last)",
      "\u001b[1;32m<ipython-input-5-1def91414402>\u001b[0m in \u001b[0;36m<module>\u001b[1;34m\u001b[0m\n\u001b[0;32m      5\u001b[0m     \u001b[0mturtle\u001b[0m\u001b[1;33m.\u001b[0m\u001b[0mforward\u001b[0m\u001b[1;33m(\u001b[0m\u001b[1;36m200\u001b[0m\u001b[1;33m)\u001b[0m\u001b[1;33m\u001b[0m\u001b[1;33m\u001b[0m\u001b[0m\n\u001b[0;32m      6\u001b[0m     \u001b[0mturtle\u001b[0m\u001b[1;33m.\u001b[0m\u001b[0mright\u001b[0m\u001b[1;33m(\u001b[0m\u001b[1;36m144\u001b[0m\u001b[1;33m)\u001b[0m\u001b[1;33m\u001b[0m\u001b[1;33m\u001b[0m\u001b[0m\n\u001b[1;32m----> 7\u001b[1;33m \u001b[0mturtle\u001b[0m\u001b[1;33m.\u001b[0m\u001b[0mdone\u001b[0m\u001b[1;33m(\u001b[0m\u001b[1;33m)\u001b[0m\u001b[1;33m\u001b[0m\u001b[1;33m\u001b[0m\u001b[0m\n\u001b[0m",
      "\u001b[1;31mAttributeError\u001b[0m: 'Turtle' object has no attribute 'done'"
     ]
    }
   ],
   "source": [
    "#draw star\n",
    "import turtle\n",
    "turtle= turtle.Turtle()\n",
    "for i in range(5):\n",
    "    turtle.forward(200)\n",
    "    turtle.right(144)\n",
    "turtle.done()\n"
   ]
  },
  {
   "cell_type": "code",
   "execution_count": null,
   "metadata": {},
   "outputs": [],
   "source": [
    "#step1: make all the turtle packages to be imported\n",
    "import turtle\n",
    "#turtle method creates and return a new object\n",
    "a1=turtle.Turtle()\n",
    "#forward()method moves 50 pixels\n",
    "turtle.forward(50)\n",
    "#done\n",
    "turtle.done()\n"
   ]
  },
  {
   "cell_type": "code",
   "execution_count": null,
   "metadata": {},
   "outputs": [],
   "source": [
    "#line draw in reverse direction\n",
    "import turtle as tt\n",
    "a1=tt.Turtle()\n",
    "a1.backward(100)\n",
    "turtle.done()\n"
   ]
  },
  {
   "cell_type": "code",
   "execution_count": null,
   "metadata": {},
   "outputs": [],
   "source": [
    "# draw square without loop\n",
    "import turtle as  tt\n",
    "a1 = tt.Turtle()\n",
    "#a1.backward(150)\n",
    "a1.forward(150)\n",
    "a1.right(90)\n",
    "#a1.backward(150)\n",
    "a1.forward(150)\n",
    "a1.right(90)\n",
    "#a1.backward(150)\n",
    "a1.forward(150)\n",
    "a1.right(90)\n",
    "#a1.backward(150)\n",
    "a1.forward(150)\n",
    "a1.right(90)\n",
    "turtle.done()\n"
   ]
  }
 ],
 "metadata": {
  "kernelspec": {
   "display_name": "Python 3",
   "language": "python",
   "name": "python3"
  },
  "language_info": {
   "codemirror_mode": {
    "name": "ipython",
    "version": 3
   },
   "file_extension": ".py",
   "mimetype": "text/x-python",
   "name": "python",
   "nbconvert_exporter": "python",
   "pygments_lexer": "ipython3",
   "version": "3.8.5"
  }
 },
 "nbformat": 4,
 "nbformat_minor": 4
}
