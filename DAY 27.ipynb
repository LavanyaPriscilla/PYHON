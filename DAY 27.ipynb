{
 "cells": [
  {
   "cell_type": "markdown",
   "metadata": {},
   "source": [
    "# Regular Expression\n",
    "\n",
    "* Used to specific pattern matching\n",
    "* Symbolic notations of pattern\n",
    "  - Pattern(RE) represents set of the va;ues\n",
    "* Pattern(re) package\n",
    "* Cap symbol is used to represent the start of re\n",
    "* Dollar symbol is used to represent the end of re\n",
    "* [0-9] Any digits\n",
    "\n",
    "* ^[0-9]{2}$ - Two digit matching\n",
    "\n",
    "* ^[0-9]{5}$ - Five digit matching"
   ]
  },
  {
   "cell_type": "markdown",
   "metadata": {},
   "source": [
    "# Regular Expressions for Characters\n",
    "\n",
    "* [a-z] ==> any lower case characters\n",
    "* [A-Z] ==> Any upper case character\n",
    "\n",
    "* ^[a-z]{5}$ ==> it accepts 5 lower case characters\n",
    "\n",
    "* ^[a-zA-Z]{8}$ ==> Accept 8 characters cn be anything lower and upper\n",
    "\n",
    "* ^[a-zA-Z0-9]{8}$ ==> Accept 8 caracter can be anything lower, upper and digit"
   ]
  },
  {
   "cell_type": "code",
   "execution_count": 1,
   "metadata": {},
   "outputs": [
    {
     "name": "stdout",
     "output_type": "stream",
     "text": [
      "True\n",
      "False\n"
     ]
    }
   ],
   "source": [
    "#function to test two digit number mtching\n",
    "import re\n",
    "def twodigitmatching(n):\n",
    "  pattern ='^[0-9]{2}$'\n",
    "  n=str(n)\n",
    "  if re.match(pattern,n):\n",
    "    return True\n",
    "  return False\n",
    "print(twodigitmatching(12))\n",
    "print(twodigitmatching(12432))"
   ]
  },
  {
   "cell_type": "code",
   "execution_count": 5,
   "metadata": {},
   "outputs": [
    {
     "name": "stdout",
     "output_type": "stream",
     "text": [
      "False\n",
      "True\n"
     ]
    }
   ],
   "source": [
    "# function to test username having 8 characters\n",
    "import re\n",
    "def username(n):\n",
    "    pattern = '^[a-zA-Z]{8}$'\n",
    "    if re.match(pattern,n):\n",
    "        return True\n",
    "    return False\n",
    "print(username('Lavanya'))\n",
    "print(username('DLavanya'))\n",
    "\n"
   ]
  },
  {
   "cell_type": "code",
   "execution_count": 9,
   "metadata": {},
   "outputs": [
    {
     "name": "stdout",
     "output_type": "stream",
     "text": [
      "enter numberlavanyaD\n"
     ]
    },
    {
     "data": {
      "text/plain": [
       "True"
      ]
     },
     "execution_count": 9,
     "metadata": {},
     "output_type": "execute_result"
    }
   ],
   "source": [
    "n=input('enter number')\n",
    "import re\n",
    "def username(n):\n",
    "    pattern = '^[a-zA-Z]{8}$'\n",
    "    if re.match(pattern,n):\n",
    "        return True\n",
    "    return False\n",
    "username(n)"
   ]
  },
  {
   "cell_type": "markdown",
   "metadata": {},
   "source": [
    "# regular expression to match the indian mobile number\n",
    "\n",
    "* 9704014997 --> ^[6-9][0-9]{9}$\n",
    "\n",
    "* 01234567892 --> ^[0][6-9][0-9]{9}$\n",
    "\n",
    "* +919876543210--> ^[+][9][1][6-9][0-9][9]$\n"
   ]
  },
  {
   "cell_type": "code",
   "execution_count": 15,
   "metadata": {},
   "outputs": [
    {
     "name": "stdout",
     "output_type": "stream",
     "text": [
      "True\n",
      "False\n"
     ]
    }
   ],
   "source": [
    "import re\n",
    "def digitmatching(n):\n",
    "    pattern = '^[6-9][0-9]{9}$'\n",
    "    n=str(n)\n",
    "    if re.match(pattern,n):\n",
    "        return True\n",
    "    return False\n",
    "print(digitmatching(9704014997))\n",
    "print(digitmatching(1234567892))"
   ]
  },
  {
   "cell_type": "code",
   "execution_count": 7,
   "metadata": {
    "scrolled": true
   },
   "outputs": [
    {
     "name": "stdout",
     "output_type": "stream",
     "text": [
      "True\n",
      "True\n",
      "True\n"
     ]
    }
   ],
   "source": [
    "import re\n",
    "def mobilematching(n):\n",
    "    pattern = '^[0][6-9][0-9]{9}$|^[6-9][0-9]{9}$|^[+][9][1][6-9][0-9]{9}$'\n",
    "    n=str(n)\n",
    "    if re.match(pattern,n):\n",
    "        return True\n",
    "    return False\n",
    "print(mobilematching('9704014997'))\n",
    "print(mobilematching('+919876543210'))\n",
    "print(mobilematching('09234567892'))\n"
   ]
  },
  {
   "cell_type": "code",
   "execution_count": 6,
   "metadata": {},
   "outputs": [
    {
     "name": "stdout",
     "output_type": "stream",
     "text": [
      "True\n",
      "True\n",
      "True\n"
     ]
    }
   ],
   "source": [
    "#regular expression to match the indian mobile number\n",
    "\n",
    "import re\n",
    "def twodigitmatching(n):\n",
    "  pattern ='^[6-9][0-9]{9}$|^[0][6-9][0-9]{9}$|^[+][9][1][6-9][0-9]{9}$'\n",
    "  if re.match(pattern,n):\n",
    "    return True\n",
    "  return False\n",
    "print(twodigitmatching('+919988774455'))\n",
    "print(twodigitmatching('09123456789'))\n",
    "print(twodigitmatching('9123456789'))"
   ]
  },
  {
   "cell_type": "code",
   "execution_count": 8,
   "metadata": {},
   "outputs": [
    {
     "name": "stdout",
     "output_type": "stream",
     "text": [
      "True\n",
      "False\n"
     ]
    }
   ],
   "source": [
    "#Regular expression to validate the rollnumber\n",
    "#Example:1521A0501\n",
    "#Example:1521A0502\n",
    "\n",
    "import re\n",
    "def twodigitmatching(n):\n",
    "    pattern = '^[0-9]{4}[A-Z]{1}[0-9]{4}$'\n",
    "    n=str(n)\n",
    "    if re.match(pattern,n):\n",
    "        return True\n",
    "    return False\n",
    "print(twodigitmatching('1521A0501'))\n",
    "print(twodigitmatching('150501'))\n"
   ]
  },
  {
   "cell_type": "code",
   "execution_count": null,
   "metadata": {},
   "outputs": [],
   "source": []
  }
 ],
 "metadata": {
  "kernelspec": {
   "display_name": "Python 3",
   "language": "python",
   "name": "python3"
  },
  "language_info": {
   "codemirror_mode": {
    "name": "ipython",
    "version": 3
   },
   "file_extension": ".py",
   "mimetype": "text/x-python",
   "name": "python",
   "nbconvert_exporter": "python",
   "pygments_lexer": "ipython3",
   "version": "3.8.5"
  }
 },
 "nbformat": 4,
 "nbformat_minor": 4
}
